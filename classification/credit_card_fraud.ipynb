{
    "cells": [
        {
            "cell_type": "code",
            "execution_count": 50,
            "metadata": {},
            "outputs": [],
            "source": [
                "# credit card fraud detection using scikit-learn\n",
                "\n",
                "from sklearn.linear_model import LogisticRegression\n",
                "from sklearn.model_selection import train_test_split\n",
                "from sklearn.preprocessing import LabelEncoder\n",
                "from sklearn.metrics import accuracy_score, precision_score, recall_score, f1_score, confusion_matrix\n",
                "\n",
                "import pandas as pd\n",
                "import numpy as np\n",
                "import matplotlib.pyplot as plt\n",
                "import joblib"
            ]
        },
        {
            "cell_type": "code",
            "execution_count": 53,
            "metadata": {},
            "outputs": [
                {
                    "data": {
                        "text/html": [
                            "<div>\n",
                            "<style scoped>\n",
                            "    .dataframe tbody tr th:only-of-type {\n",
                            "        vertical-align: middle;\n",
                            "    }\n",
                            "\n",
                            "    .dataframe tbody tr th {\n",
                            "        vertical-align: top;\n",
                            "    }\n",
                            "\n",
                            "    .dataframe thead th {\n",
                            "        text-align: right;\n",
                            "    }\n",
                            "</style>\n",
                            "<table border=\"1\" class=\"dataframe\">\n",
                            "  <thead>\n",
                            "    <tr style=\"text-align: right;\">\n",
                            "      <th></th>\n",
                            "      <th>timestamp</th>\n",
                            "      <th>label</th>\n",
                            "      <th>user_id</th>\n",
                            "      <th>amount</th>\n",
                            "      <th>merchant_id</th>\n",
                            "      <th>trans_type</th>\n",
                            "      <th>foreign</th>\n",
                            "      <th>interarrival</th>\n",
                            "    </tr>\n",
                            "  </thead>\n",
                            "  <tbody>\n",
                            "    <tr>\n",
                            "      <th>0</th>\n",
                            "      <td>1765503833</td>\n",
                            "      <td>legitimate</td>\n",
                            "      <td>8730</td>\n",
                            "      <td>9.66</td>\n",
                            "      <td>19956</td>\n",
                            "      <td>contactless</td>\n",
                            "      <td>False</td>\n",
                            "      <td>8002.0</td>\n",
                            "    </tr>\n",
                            "    <tr>\n",
                            "      <th>1</th>\n",
                            "      <td>1741328710</td>\n",
                            "      <td>legitimate</td>\n",
                            "      <td>7740</td>\n",
                            "      <td>9.72</td>\n",
                            "      <td>1188</td>\n",
                            "      <td>online</td>\n",
                            "      <td>True</td>\n",
                            "      <td>5805.0</td>\n",
                            "    </tr>\n",
                            "    <tr>\n",
                            "      <th>2</th>\n",
                            "      <td>1682778767</td>\n",
                            "      <td>legitimate</td>\n",
                            "      <td>9009</td>\n",
                            "      <td>19.59</td>\n",
                            "      <td>12364</td>\n",
                            "      <td>manual</td>\n",
                            "      <td>False</td>\n",
                            "      <td>18125.0</td>\n",
                            "    </tr>\n",
                            "    <tr>\n",
                            "      <th>3</th>\n",
                            "      <td>1659489350</td>\n",
                            "      <td>legitimate</td>\n",
                            "      <td>3083</td>\n",
                            "      <td>29.39</td>\n",
                            "      <td>1073</td>\n",
                            "      <td>contactless</td>\n",
                            "      <td>False</td>\n",
                            "      <td>53561.0</td>\n",
                            "    </tr>\n",
                            "    <tr>\n",
                            "      <th>4</th>\n",
                            "      <td>1736942507</td>\n",
                            "      <td>legitimate</td>\n",
                            "      <td>4593</td>\n",
                            "      <td>16.09</td>\n",
                            "      <td>18896</td>\n",
                            "      <td>contactless</td>\n",
                            "      <td>False</td>\n",
                            "      <td>5172.0</td>\n",
                            "    </tr>\n",
                            "    <tr>\n",
                            "      <th>...</th>\n",
                            "      <td>...</td>\n",
                            "      <td>...</td>\n",
                            "      <td>...</td>\n",
                            "      <td>...</td>\n",
                            "      <td>...</td>\n",
                            "      <td>...</td>\n",
                            "      <td>...</td>\n",
                            "      <td>...</td>\n",
                            "    </tr>\n",
                            "    <tr>\n",
                            "      <th>7499995</th>\n",
                            "      <td>1761960303</td>\n",
                            "      <td>legitimate</td>\n",
                            "      <td>1075</td>\n",
                            "      <td>3.85</td>\n",
                            "      <td>18754</td>\n",
                            "      <td>online</td>\n",
                            "      <td>True</td>\n",
                            "      <td>5164.0</td>\n",
                            "    </tr>\n",
                            "    <tr>\n",
                            "      <th>7499996</th>\n",
                            "      <td>1677395814</td>\n",
                            "      <td>legitimate</td>\n",
                            "      <td>1352</td>\n",
                            "      <td>19.12</td>\n",
                            "      <td>7037</td>\n",
                            "      <td>manual</td>\n",
                            "      <td>False</td>\n",
                            "      <td>5403.0</td>\n",
                            "    </tr>\n",
                            "    <tr>\n",
                            "      <th>7499997</th>\n",
                            "      <td>1760566097</td>\n",
                            "      <td>legitimate</td>\n",
                            "      <td>452</td>\n",
                            "      <td>15.19</td>\n",
                            "      <td>8289</td>\n",
                            "      <td>contactless</td>\n",
                            "      <td>False</td>\n",
                            "      <td>9515.0</td>\n",
                            "    </tr>\n",
                            "    <tr>\n",
                            "      <th>7499998</th>\n",
                            "      <td>1762349322</td>\n",
                            "      <td>legitimate</td>\n",
                            "      <td>6260</td>\n",
                            "      <td>3.22</td>\n",
                            "      <td>2664</td>\n",
                            "      <td>contactless</td>\n",
                            "      <td>False</td>\n",
                            "      <td>38839.0</td>\n",
                            "    </tr>\n",
                            "    <tr>\n",
                            "      <th>7499999</th>\n",
                            "      <td>1655562655</td>\n",
                            "      <td>legitimate</td>\n",
                            "      <td>3169</td>\n",
                            "      <td>104.10</td>\n",
                            "      <td>19411</td>\n",
                            "      <td>online</td>\n",
                            "      <td>False</td>\n",
                            "      <td>5958.0</td>\n",
                            "    </tr>\n",
                            "  </tbody>\n",
                            "</table>\n",
                            "<p>7500000 rows × 8 columns</p>\n",
                            "</div>"
                        ],
                        "text/plain": [
                            "          timestamp       label  user_id  amount  merchant_id   trans_type  \\\n",
                            "0        1765503833  legitimate     8730    9.66        19956  contactless   \n",
                            "1        1741328710  legitimate     7740    9.72         1188       online   \n",
                            "2        1682778767  legitimate     9009   19.59        12364       manual   \n",
                            "3        1659489350  legitimate     3083   29.39         1073  contactless   \n",
                            "4        1736942507  legitimate     4593   16.09        18896  contactless   \n",
                            "...             ...         ...      ...     ...          ...          ...   \n",
                            "7499995  1761960303  legitimate     1075    3.85        18754       online   \n",
                            "7499996  1677395814  legitimate     1352   19.12         7037       manual   \n",
                            "7499997  1760566097  legitimate      452   15.19         8289  contactless   \n",
                            "7499998  1762349322  legitimate     6260    3.22         2664  contactless   \n",
                            "7499999  1655562655  legitimate     3169  104.10        19411       online   \n",
                            "\n",
                            "         foreign  interarrival  \n",
                            "0          False        8002.0  \n",
                            "1           True        5805.0  \n",
                            "2          False       18125.0  \n",
                            "3          False       53561.0  \n",
                            "4          False        5172.0  \n",
                            "...          ...           ...  \n",
                            "7499995     True        5164.0  \n",
                            "7499996    False        5403.0  \n",
                            "7499997    False        9515.0  \n",
                            "7499998    False       38839.0  \n",
                            "7499999    False        5958.0  \n",
                            "\n",
                            "[7500000 rows x 8 columns]"
                        ]
                    },
                    "execution_count": 53,
                    "metadata": {},
                    "output_type": "execute_result"
                }
            ],
            "source": [
                "# load data\n",
                "\n",
                "df = pd.read_parquet('data/credit_card_fraud.parquet', engine='pyarrow')\n",
                "df"
            ]
        },
        {
            "cell_type": "code",
            "execution_count": 54,
            "metadata": {},
            "outputs": [],
            "source": [
                "# preprocessing\n",
                "\n",
                "# encode labels\n",
                "le = LabelEncoder()\n",
                "df['label'] = le.fit_transform(df['label'])\n",
                "df['label'] = df['label'].map({0: 1, 1: 0})  # 1 = fraud, 0 = not fraud\n",
                "df['trans_type'] = le.fit_transform(df['trans_type'])\n",
                "df['foreign'] = le.fit_transform(df['foreign'])\n",
                "\n",
                "# add hour feature, remove timestamp\n",
                "df['timestamp'] = df.timestamp.values.astype(np.int64) * 10 ** 9\n",
                "df['hour'] = pd.to_datetime(list(df['timestamp'].values)).hour\n",
                "df.drop('timestamp', axis=1, inplace=True)\n",
                "\n",
                "# delete bad data\n",
                "df.dropna(inplace=True)\n",
                "df.drop(df[df.isnull().any(axis=1)].index, inplace=True)"
            ]
        },
        {
            "cell_type": "code",
            "execution_count": 55,
            "metadata": {},
            "outputs": [],
            "source": [
                "# create train and test sets\n",
                "\n",
                "X = df.drop('label', axis=1)\n",
                "y = df['label']\n",
                "x_train, x_test, y_train, y_test = train_test_split(X, y, test_size=0.2, random_state=42)"
            ]
        },
        {
            "cell_type": "code",
            "execution_count": null,
            "metadata": {},
            "outputs": [],
            "source": [
                "# create logistic regression model\n",
                "\n",
                "model = LogisticRegression()\n",
                "model.fit(x_train, y_train)"
            ]
        },
        {
            "cell_type": "code",
            "execution_count": null,
            "metadata": {},
            "outputs": [],
            "source": [
                "# export model\n",
                "\n",
                "with open('models/credit_card_fraud.pkl', 'wb') as f:\n",
                "    joblib.dump(model, f)"
            ]
        },
        {
            "cell_type": "code",
            "execution_count": null,
            "metadata": {},
            "outputs": [],
            "source": [
                "# import model\n",
                "\n",
                "with open('models/credit_card_fraud.pkl', 'rb') as f:\n",
                "    model = joblib.load(f)"
            ]
        },
        {
            "cell_type": "code",
            "execution_count": 57,
            "metadata": {},
            "outputs": [
                {
                    "name": "stdout",
                    "output_type": "stream",
                    "text": [
                        "Accuracy:\t 0.9949535189021353\n",
                        "Precision:\t 0.9521512554373573\n",
                        "Recall:\t\t 0.7739270461387664\n",
                        "F1:\t\t 0.8538379839721927\n"
                    ]
                }
            ],
            "source": [
                "# evaluate accuracy\n",
                "\n",
                "predictions = model.predict(x_test)\n",
                "\n",
                "accuracy = accuracy_score(y_test, predictions)\n",
                "precision = precision_score(y_test, predictions)\n",
                "recall = recall_score(y_test, predictions)\n",
                "f1 = f1_score(y_test, predictions)\n",
                "\n",
                "print('Accuracy:\\t', accuracy)\n",
                "print('Precision:\\t', precision)\n",
                "print('Recall:\\t\\t', recall)\n",
                "print('F1:\\t\\t', f1)"
            ]
        },
        {
            "cell_type": "code",
            "execution_count": 58,
            "metadata": {},
            "outputs": [
                {
                    "data": {
                        "image/png": "[encoded data removed]",
                        "text/plain": [
                            "<Figure size 1080x720 with 2 Axes>"
                        ]
                    },
                    "metadata": {
                        "needs_background": "light"
                    },
                    "output_type": "display_data"
                }
            ],
            "source": [
                "# plot confusion matrix\n",
                "\n",
                "cm = confusion_matrix(y_test, predictions)\n",
                "plt.figure(figsize=(15, 10))\n",
                "plt.imshow(cm, interpolation='nearest', cmap='coolwarm')\n",
                "plt.title('Confusion matrix')\n",
                "plt.colorbar()\n",
                "plt.ylabel('True label')\n",
                "plt.xlabel('Predicted label')\n",
                "plt.show()"
            ]
        }
    ],
    "metadata": {
        "kernelspec": {
            "display_name": "Python 3.10.4 ('ml')",
            "language": "python",
            "name": "python3"
        },
        "language_info": {
            "codemirror_mode": {
                "name": "ipython",
                "version": 3
            },
            "file_extension": ".py",
            "mimetype": "text/x-python",
            "name": "python",
            "nbconvert_exporter": "python",
            "pygments_lexer": "ipython3",
            "version": "3.10.4"
        },
        "orig_nbformat": 4,
        "vscode": {
            "interpreter": {
                "hash": "86922f904eb7bf1c64beeb5670abb04a162df9eaa0b6ca4be77fc170d28b1b44"
            }
        }
    },
    "nbformat": 4,
    "nbformat_minor": 2
}
