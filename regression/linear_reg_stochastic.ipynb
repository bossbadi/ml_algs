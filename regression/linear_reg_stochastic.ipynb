{
    "cells": [
        {
            "cell_type": "code",
            "execution_count": 109,
            "metadata": {},
            "outputs": [],
            "source": [
                "# linear regression using stochastic gradient descent\n",
                "\n",
                "import numpy as np\n",
                "import matplotlib.pyplot as plt\n",
                "\n",
                "degree = 1\n",
                "\n",
                "# generate random data\n",
                "x_train = np.arange(100)\n",
                "y_train = .4 * x_train + 3 + np.random.uniform(-10,10, size=(100,))"
            ]
        },
        {
            "cell_type": "code",
            "execution_count": 110,
            "metadata": {},
            "outputs": [
                {
                    "data": {
                        "text/plain": [
                            "(100, 2)"
                        ]
                    },
                    "execution_count": 110,
                    "metadata": {},
                    "output_type": "execute_result"
                }
            ],
            "source": [
                "# create input matrix\n",
                "X = np.ones((len(x_train), degree + 1))\n",
                "for i in range(1, degree + 1):\n",
                "    X[:, i] = x_train ** i\n",
                "\n",
                "X.shape"
            ]
        },
        {
            "cell_type": "code",
            "execution_count": 111,
            "metadata": {},
            "outputs": [],
            "source": [
                "# scale the input matrix\n",
                "X = X / np.max(X, axis=0)"
            ]
        },
        {
            "cell_type": "code",
            "execution_count": 112,
            "metadata": {},
            "outputs": [],
            "source": [
                "# create vector of answers\n",
                "y = y_train.reshape(-1, 1)"
            ]
        },
        {
            "cell_type": "code",
            "execution_count": 113,
            "metadata": {},
            "outputs": [
                {
                    "data": {
                        "text/plain": [
                            "array([[15.84318209, 15.84318209]])"
                        ]
                    },
                    "execution_count": 113,
                    "metadata": {},
                    "output_type": "execute_result"
                }
            ],
            "source": [
                "theta = np.zeros((X.shape[1], 1))\n",
                "a = 1\n",
                "m = len(x_train)\n",
                "\n",
                "rng = np.random.default_rng(seed=0)\n",
                "\n",
                "for _ in range(1000):\n",
                "    i = rng.integers(0, m)\n",
                "    theta = theta - (a / m) * X[i] @ (X[i] * (X[i] @ theta - y[i]))\n",
                "\n",
                "# theta\n",
                "theta.T"
            ]
        },
        {
            "cell_type": "code",
            "execution_count": 114,
            "metadata": {},
            "outputs": [
                {
                    "name": "stdout",
                    "output_type": "stream",
                    "text": [
                        "y = 15.84 + 15.84x^1"
                    ]
                }
            ],
            "source": [
                "# print equation\n",
                "print('y = %.2f' % theta[0], end='')\n",
                "for i in range(1, len(theta)):\n",
                "    print(' + %.2fx^%d' % (theta[i], i), end='')"
            ]
        },
        {
            "cell_type": "code",
            "execution_count": 115,
            "metadata": {},
            "outputs": [
                {
                    "data": {
                        "image/png": "[encoded data removed]",
                        "text/plain": [
                            "<Figure size 720x720 with 1 Axes>"
                        ]
                    },
                    "metadata": {
                        "needs_background": "light"
                    },
                    "output_type": "display_data"
                }
            ],
            "source": [
                "# plot results\n",
                "plt.figure(figsize=(10, 10))\n",
                "plt.title('Linear Regression with Stochastic Gradient Descent')\n",
                "plt.xlabel('x')\n",
                "plt.ylabel('y')\n",
                "\n",
                "y_pred = X @ theta\n",
                "plt.plot(x_train, y_pred, 'k-')\n",
                "plt.plot(x_train, y_train, 'o')\n",
                "\n",
                "plt.show()"
            ]
        }
    ],
    "metadata": {
        "kernelspec": {
            "display_name": "Python 3.10.4 64-bit",
            "language": "python",
            "name": "python3"
        },
        "language_info": {
            "codemirror_mode": {
                "name": "ipython",
                "version": 3
            },
            "file_extension": ".py",
            "mimetype": "text/x-python",
            "name": "python",
            "nbconvert_exporter": "python",
            "pygments_lexer": "ipython3",
            "version": "3.10.4"
        },
        "orig_nbformat": 4,
        "vscode": {
            "interpreter": {
                "hash": "4f946df053fbf2b937619d3c5458e7af74262f9a954d8797ba0b27400bcafe06"
            }
        }
    },
    "nbformat": 4,
    "nbformat_minor": 2
}
