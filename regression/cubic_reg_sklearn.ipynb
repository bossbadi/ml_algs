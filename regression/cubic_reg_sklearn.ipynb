{
    "cells": [
        {
            "cell_type": "code",
            "execution_count": 18,
            "metadata": {},
            "outputs": [
                {
                    "data": {
                        "text/html": [
                            "<div>\n",
                            "<style scoped>\n",
                            "    .dataframe tbody tr th:only-of-type {\n",
                            "        vertical-align: middle;\n",
                            "    }\n",
                            "\n",
                            "    .dataframe tbody tr th {\n",
                            "        vertical-align: top;\n",
                            "    }\n",
                            "\n",
                            "    .dataframe thead th {\n",
                            "        text-align: right;\n",
                            "    }\n",
                            "</style>\n",
                            "<table border=\"1\" class=\"dataframe\">\n",
                            "  <thead>\n",
                            "    <tr style=\"text-align: right;\">\n",
                            "      <th></th>\n",
                            "      <th>x</th>\n",
                            "      <th>y</th>\n",
                            "    </tr>\n",
                            "  </thead>\n",
                            "  <tbody>\n",
                            "    <tr>\n",
                            "      <th>0</th>\n",
                            "      <td>1.0</td>\n",
                            "      <td>3.000</td>\n",
                            "    </tr>\n",
                            "    <tr>\n",
                            "      <th>1</th>\n",
                            "      <td>1.1</td>\n",
                            "      <td>4.741</td>\n",
                            "    </tr>\n",
                            "    <tr>\n",
                            "      <th>2</th>\n",
                            "      <td>1.2</td>\n",
                            "      <td>5.368</td>\n",
                            "    </tr>\n",
                            "    <tr>\n",
                            "      <th>3</th>\n",
                            "      <td>1.3</td>\n",
                            "      <td>4.887</td>\n",
                            "    </tr>\n",
                            "    <tr>\n",
                            "      <th>4</th>\n",
                            "      <td>1.4</td>\n",
                            "      <td>5.304</td>\n",
                            "    </tr>\n",
                            "    <tr>\n",
                            "      <th>5</th>\n",
                            "      <td>1.5</td>\n",
                            "      <td>5.625</td>\n",
                            "    </tr>\n",
                            "    <tr>\n",
                            "      <th>6</th>\n",
                            "      <td>1.6</td>\n",
                            "      <td>6.856</td>\n",
                            "    </tr>\n",
                            "    <tr>\n",
                            "      <th>7</th>\n",
                            "      <td>1.7</td>\n",
                            "      <td>6.003</td>\n",
                            "    </tr>\n",
                            "    <tr>\n",
                            "      <th>8</th>\n",
                            "      <td>1.8</td>\n",
                            "      <td>8.072</td>\n",
                            "    </tr>\n",
                            "    <tr>\n",
                            "      <th>9</th>\n",
                            "      <td>1.9</td>\n",
                            "      <td>7.069</td>\n",
                            "    </tr>\n",
                            "    <tr>\n",
                            "      <th>10</th>\n",
                            "      <td>2.0</td>\n",
                            "      <td>8.000</td>\n",
                            "    </tr>\n",
                            "    <tr>\n",
                            "      <th>11</th>\n",
                            "      <td>2.1</td>\n",
                            "      <td>5.871</td>\n",
                            "    </tr>\n",
                            "    <tr>\n",
                            "      <th>12</th>\n",
                            "      <td>2.2</td>\n",
                            "      <td>6.688</td>\n",
                            "    </tr>\n",
                            "    <tr>\n",
                            "      <th>13</th>\n",
                            "      <td>2.3</td>\n",
                            "      <td>5.457</td>\n",
                            "    </tr>\n",
                            "    <tr>\n",
                            "      <th>14</th>\n",
                            "      <td>2.4</td>\n",
                            "      <td>7.184</td>\n",
                            "    </tr>\n",
                            "    <tr>\n",
                            "      <th>15</th>\n",
                            "      <td>2.5</td>\n",
                            "      <td>6.875</td>\n",
                            "    </tr>\n",
                            "    <tr>\n",
                            "      <th>16</th>\n",
                            "      <td>2.6</td>\n",
                            "      <td>6.536</td>\n",
                            "    </tr>\n",
                            "    <tr>\n",
                            "      <th>17</th>\n",
                            "      <td>2.7</td>\n",
                            "      <td>5.173</td>\n",
                            "    </tr>\n",
                            "    <tr>\n",
                            "      <th>18</th>\n",
                            "      <td>2.8</td>\n",
                            "      <td>4.792</td>\n",
                            "    </tr>\n",
                            "  </tbody>\n",
                            "</table>\n",
                            "</div>"
                        ],
                        "text/plain": [
                            "      x      y\n",
                            "0   1.0  3.000\n",
                            "1   1.1  4.741\n",
                            "2   1.2  5.368\n",
                            "3   1.3  4.887\n",
                            "4   1.4  5.304\n",
                            "5   1.5  5.625\n",
                            "6   1.6  6.856\n",
                            "7   1.7  6.003\n",
                            "8   1.8  8.072\n",
                            "9   1.9  7.069\n",
                            "10  2.0  8.000\n",
                            "11  2.1  5.871\n",
                            "12  2.2  6.688\n",
                            "13  2.3  5.457\n",
                            "14  2.4  7.184\n",
                            "15  2.5  6.875\n",
                            "16  2.6  6.536\n",
                            "17  2.7  5.173\n",
                            "18  2.8  4.792"
                        ]
                    },
                    "execution_count": 18,
                    "metadata": {},
                    "output_type": "execute_result"
                }
            ],
            "source": [
                "# cubic regression using scikit-learn\n",
                "\n",
                "import pandas as pd\n",
                "import matplotlib.pyplot as plt\n",
                "from sklearn.linear_model import LinearRegression\n",
                "import numpy as np\n",
                "\n",
                "data = pd.read_excel('data/cubic_reg.xlsx')\n",
                "data"
            ]
        },
        {
            "cell_type": "code",
            "execution_count": 19,
            "metadata": {},
            "outputs": [
                {
                    "data": {
                        "text/plain": [
                            "(19, 3)"
                        ]
                    },
                    "execution_count": 19,
                    "metadata": {},
                    "output_type": "execute_result"
                }
            ],
            "source": [
                "x1 = data['x'].values.reshape(19, 1)\n",
                "x2 = x1 ** 2\n",
                "x3 = x1 ** 3\n",
                "X = np.hstack((x1, x2, x3))\n",
                "X.shape"
            ]
        },
        {
            "cell_type": "code",
            "execution_count": 20,
            "metadata": {},
            "outputs": [],
            "source": [
                "model = LinearRegression()\n",
                "model.fit(X, data['y'])\n",
                "y_pred = model.predict(X)"
            ]
        },
        {
            "cell_type": "code",
            "execution_count": 21,
            "metadata": {},
            "outputs": [
                {
                    "name": "stdout",
                    "output_type": "stream",
                    "text": [
                        "y = -7.09 + 14.21x + -3.68x^2 + 0.05x^3\n"
                    ]
                }
            ],
            "source": [
                "# print equation\n",
                "print('y = %.2f + %.2fx + %.2fx^2 + %.2fx^3' % (model.intercept_, model.coef_[0], model.coef_[1], model.coef_[2]))"
            ]
        },
        {
            "cell_type": "code",
            "execution_count": 22,
            "metadata": {},
            "outputs": [
                {
                    "data": {
                        "image/png": "[encoded data removed]",
                        "text/plain": [
                            "<Figure size 720x720 with 1 Axes>"
                        ]
                    },
                    "metadata": {
                        "needs_background": "light"
                    },
                    "output_type": "display_data"
                }
            ],
            "source": [
                "# plot results\n",
                "plt.figure(figsize=(10, 10))\n",
                "plt.title('Cubic Regression')\n",
                "plt.xlabel('x')\n",
                "plt.ylabel('y')\n",
                "\n",
                "plt.plot(data['x'], y_pred, 'k-')\n",
                "plt.plot(data['x'], data['y'], 'o')\n",
                "\n",
                "plt.show()"
            ]
        }
    ],
    "metadata": {
        "kernelspec": {
            "display_name": "Python 3.10.4 ('ml')",
            "language": "python",
            "name": "python3"
        },
        "language_info": {
            "codemirror_mode": {
                "name": "ipython",
                "version": 3
            },
            "file_extension": ".py",
            "mimetype": "text/x-python",
            "name": "python",
            "nbconvert_exporter": "python",
            "pygments_lexer": "ipython3",
            "version": "3.10.4"
        },
        "orig_nbformat": 4,
        "vscode": {
            "interpreter": {
                "hash": "86922f904eb7bf1c64beeb5670abb04a162df9eaa0b6ca4be77fc170d28b1b44"
            }
        }
    },
    "nbformat": 4,
    "nbformat_minor": 2
}
